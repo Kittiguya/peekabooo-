{
 "cells": [
  {
   "cell_type": "markdown",
   "metadata": {},
   "source": [
    "# Object-Oriented-Programming (OOP)"
   ]
  },
  {
   "cell_type": "markdown",
   "metadata": {},
   "source": [
    "## Tasks Today:\n",
    "\n",
    "   \n",
    "\n",
    "1) <b>Creating a Class (Initializing/Declaring)</b> <br>\n",
    "2) <b>Using a Class (Instantiating)</b> <br>\n",
    " &nbsp;&nbsp;&nbsp;&nbsp; a) Creating One Instance <br>\n",
    " &nbsp;&nbsp;&nbsp;&nbsp; b) Creating Multiple Instances <br>\n",
    " &nbsp;&nbsp;&nbsp;&nbsp; c) In-Class Exercise #1 - Create a Class 'Car' and instantiate three different makes of cars <br>\n",
    "3) <b>The \\__init\\__() Method</b> <br>\n",
    " &nbsp;&nbsp;&nbsp;&nbsp; a) The 'self' Attribute <br>\n",
    "4) <b>Class Attributes</b> <br>\n",
    " &nbsp;&nbsp;&nbsp;&nbsp; a) Initializing Attributes <br>\n",
    " &nbsp;&nbsp;&nbsp;&nbsp; b) Setting an Attribute Outside of the \\__init\\__() Method <br>\n",
    " &nbsp;&nbsp;&nbsp;&nbsp; c) Setting Defaults for Attributes <br>\n",
    " &nbsp;&nbsp;&nbsp;&nbsp; d) Accessing Class Attributes <br>\n",
    " &nbsp;&nbsp;&nbsp;&nbsp; e) Changing Class Attributes <br>\n",
    " &nbsp;&nbsp;&nbsp;&nbsp; f) In-Class Exercise #2 - Add a color and wheels attribute to your 'Car' class <br>\n",
    "5) <b>Class Methods</b> <br>\n",
    " &nbsp;&nbsp;&nbsp;&nbsp; a) Creating <br>\n",
    " &nbsp;&nbsp;&nbsp;&nbsp; b) Calling <br>\n",
    " &nbsp;&nbsp;&nbsp;&nbsp; c) Modifying an Attribute's Value Through a Method <br>\n",
    " &nbsp;&nbsp;&nbsp;&nbsp; d) Incrementing an Attribute's Value Through a Method <br>\n",
    " &nbsp;&nbsp;&nbsp;&nbsp; e) In-Class Exercise #3 - Add a method that prints the cars color and wheel number, then call them <br>\n",
    "6) <b>Inheritance</b> <br>\n",
    " &nbsp;&nbsp;&nbsp;&nbsp; a) Syntax for Inheriting from a Parent Class <br>\n",
    " &nbsp;&nbsp;&nbsp;&nbsp; b) The \\__init\\__() Method for a Child Class (super()) <br>\n",
    " &nbsp;&nbsp;&nbsp;&nbsp; c) Defining Attributes and Methods for the Child Class <br>\n",
    " &nbsp;&nbsp;&nbsp;&nbsp; d) Method Overriding <br>\n",
    " &nbsp;&nbsp;&nbsp;&nbsp; e) In-Class Exercise #4 - Create a class 'Ford' that inherits from 'Car' class and initialize it as a Blue Ford Explorer with 4 wheels using the super() method <br>\n",
    "7) <b>Classes as Attributes</b> <br>\n",
    "8) <b>Exercises</b> <br>\n",
    " &nbsp;&nbsp;&nbsp;&nbsp; a) Exercise #1 - Turn the shopping cart program from yesterday into an object-oriented program <br>"
   ]
  },
  {
   "cell_type": "markdown",
   "metadata": {},
   "source": [
    "## Creating a Class (Initializing/Declaring)\n",
    "<p>When creating a class, function, or even a variable you are initializing that object. Initializing and Declaring occur at the same time in Python, whereas in lower level languages you have to declare an object before initializing it. This is the first step in the process of using a class.</p>"
   ]
  },
  {
   "cell_type": "code",
   "execution_count": 1,
   "metadata": {},
   "outputs": [],
   "source": [
    "class Car():                            #on classes capitilization matters.\n",
    "    wheels = 4\n",
    "    color = 'blue'\n",
    "    \n",
    "class Truck:\n",
    "    wheels = 4\n",
    "    color = 'Black'"
   ]
  },
  {
   "cell_type": "markdown",
   "metadata": {},
   "source": [
    "## Using a Class (Instantiating)\n",
    "<p>The process of creating a class is called <i>Instantiating</i>. Each time you create a variable of that type of class, it is referred to as an <i>Instance</i> of that class. This is the second step in the process of using a class.</p>"
   ]
  },
  {
   "cell_type": "markdown",
   "metadata": {},
   "source": [
    "##### Creating One Instance"
   ]
  },
  {
   "cell_type": "code",
   "execution_count": 3,
   "metadata": {},
   "outputs": [],
   "source": [
    "ford = Car()"
   ]
  },
  {
   "cell_type": "code",
   "execution_count": 7,
   "metadata": {},
   "outputs": [
    {
     "name": "stdout",
     "output_type": "stream",
     "text": [
      "<class '__main__.Car'>\n",
      "<__main__.Car object at 0x0000018A1B4505D0>\n",
      "4\n"
     ]
    }
   ],
   "source": [
    "print(type(ford))\n",
    "print(ford)\n",
    "#print(ford['wheels'])  this doesnt work, returns an error. Line below is why: .attributes\n",
    "print(ford.wheels)"
   ]
  },
  {
   "cell_type": "markdown",
   "metadata": {},
   "source": [
    "##### Creating Multiple Instances"
   ]
  },
  {
   "cell_type": "code",
   "execution_count": 8,
   "metadata": {},
   "outputs": [],
   "source": [
    "chevy = Car()\n",
    "aston = Car()"
   ]
  },
  {
   "cell_type": "code",
   "execution_count": 10,
   "metadata": {},
   "outputs": [
    {
     "name": "stdout",
     "output_type": "stream",
     "text": [
      "4 4\n"
     ]
    }
   ],
   "source": [
    "print(chevy.wheels, aston.wheels)"
   ]
  },
  {
   "cell_type": "code",
   "execution_count": 11,
   "metadata": {},
   "outputs": [],
   "source": [
    "aston.name = 'Martin'"
   ]
  },
  {
   "cell_type": "code",
   "execution_count": 12,
   "metadata": {},
   "outputs": [
    {
     "name": "stdout",
     "output_type": "stream",
     "text": [
      "Martin\n"
     ]
    }
   ],
   "source": [
    "print(aston.name)"
   ]
  },
  {
   "cell_type": "markdown",
   "metadata": {},
   "source": [
    "##### In-Class Exercise #1 - Create a Class 'Car' and Instantiate three different makes of cars"
   ]
  },
  {
   "cell_type": "code",
   "execution_count": 16,
   "metadata": {},
   "outputs": [],
   "source": [
    "class Comp():\n",
    "    hardware = True\n",
    "    software = 10\n",
    "    keyboard = None\n",
    "\n",
    "mac = Comp()\n",
    "pc = Comp()\n",
    "linux = Comp()\n"
   ]
  },
  {
   "cell_type": "markdown",
   "metadata": {},
   "source": [
    "## The \\__init\\__() Method <br>\n",
    "<p>This method is used in almost every created class, and called only once upon the creation of the class instance. This method will initialize all variables needed for the object.</p>"
   ]
  },
  {
   "cell_type": "code",
   "execution_count": 28,
   "metadata": {},
   "outputs": [
    {
     "name": "stdout",
     "output_type": "stream",
     "text": [
      "rubber 4\n",
      "rubber 5\n"
     ]
    }
   ],
   "source": [
    "#(self,) is calling this specific car. \n",
    "\n",
    "class Car():\n",
    "    wheels = 4\n",
    "    \n",
    "    def __init__(self, doors, sunroof=False):\n",
    "        self.doors = doors\n",
    "        self.sunroof = sunroof\n",
    "        self.tires = 'rubber'\n",
    "plymouth = Car(4)\n",
    "print(plymouth.tires, plymouth.wheels)\n",
    "plymouth.wheels = 5\n",
    "print(plymouth.tires, plymouth.wheels)"
   ]
  },
  {
   "cell_type": "code",
   "execution_count": null,
   "metadata": {},
   "outputs": [],
   "source": []
  },
  {
   "cell_type": "code",
   "execution_count": null,
   "metadata": {},
   "outputs": [],
   "source": []
  },
  {
   "cell_type": "markdown",
   "metadata": {},
   "source": [
    "##### The 'self' Attribute <br>\n",
    "<p>This attribute is required to keep track of specific instance's attributes. Without the self attribute, the program would not know how to reference or keep track of an instance's attributes.</p>"
   ]
  },
  {
   "cell_type": "code",
   "execution_count": null,
   "metadata": {},
   "outputs": [],
   "source": [
    "# see above"
   ]
  },
  {
   "cell_type": "markdown",
   "metadata": {},
   "source": [
    "## Class Attributes <br>\n",
    "<p>While variables are inside of a class, they are referred to as attributes and not variables. When someone says 'attribute' you know they're speaking about a class. Attributes can be initialized through the init method, or outside of it.</p>"
   ]
  },
  {
   "cell_type": "markdown",
   "metadata": {},
   "source": [
    "##### Initializing Attributes"
   ]
  },
  {
   "cell_type": "code",
   "execution_count": 29,
   "metadata": {},
   "outputs": [],
   "source": [
    "# see above\n",
    "class Car():\n",
    "    wheels = 4 #inilitializing attribute\n",
    "    \n",
    "    def __init__(self, doors, sunroof=False): #Setting defaults\n",
    "        self.doors = doors\n",
    "        self.sunroof = sunroof\n",
    "        self.tires = 'rubber'"
   ]
  },
  {
   "cell_type": "markdown",
   "metadata": {},
   "source": [
    "##### Accessing Class Attributes"
   ]
  },
  {
   "cell_type": "code",
   "execution_count": null,
   "metadata": {
    "scrolled": true
   },
   "outputs": [],
   "source": [
    "# See Above"
   ]
  },
  {
   "cell_type": "markdown",
   "metadata": {},
   "source": [
    "##### Setting Defaults for Attributes"
   ]
  },
  {
   "cell_type": "code",
   "execution_count": null,
   "metadata": {},
   "outputs": [],
   "source": []
  },
  {
   "cell_type": "markdown",
   "metadata": {},
   "source": [
    "##### Changing Class Attributes <br>\n",
    "<p>Keep in mind there are global class attributes and then there are attributes only available to each class instance which won't effect other classes.</p>"
   ]
  },
  {
   "cell_type": "code",
   "execution_count": 30,
   "metadata": {},
   "outputs": [],
   "source": [
    "#plymouth = Car(4, true)\n",
    "#print(plymouth.tires, plymouth.wheels)\n",
    "#plymouth.wheels = 5\n",
    "#print(plymouth.tires, plymouth.wheels)\n",
    "plymouth.old = True"
   ]
  },
  {
   "cell_type": "code",
   "execution_count": null,
   "metadata": {},
   "outputs": [],
   "source": []
  },
  {
   "cell_type": "markdown",
   "metadata": {},
   "source": [
    "##### In-Class Exercise #2 - Add a doors and seats attribute to your 'Car' class then print out two different instances with different doors and seats"
   ]
  },
  {
   "cell_type": "code",
   "execution_count": 41,
   "metadata": {},
   "outputs": [
    {
     "ename": "AttributeError",
     "evalue": "'Car' object has no attribute 'mirrors'",
     "output_type": "error",
     "traceback": [
      "\u001b[1;31m---------------------------------------------------------------------------\u001b[0m",
      "\u001b[1;31mAttributeError\u001b[0m                            Traceback (most recent call last)",
      "Cell \u001b[1;32mIn[41], line 11\u001b[0m\n\u001b[0;32m      9\u001b[0m         \u001b[38;5;28mself\u001b[39m\u001b[38;5;241m.\u001b[39mmirrors \u001b[38;5;241m=\u001b[39m mirrors\n\u001b[0;32m     10\u001b[0m         \u001b[38;5;28mself\u001b[39m\u001b[38;5;241m.\u001b[39mturbo \u001b[38;5;241m=\u001b[39m turbo\n\u001b[1;32m---> 11\u001b[0m \u001b[38;5;28mprint\u001b[39m(plymouth\u001b[38;5;241m.\u001b[39mmirrors, plymouth\u001b[38;5;241m.\u001b[39mturbo)\n",
      "\u001b[1;31mAttributeError\u001b[0m: 'Car' object has no attribute 'mirrors'"
     ]
    }
   ],
   "source": [
    "class Car():\n",
    "    wheels = 4 #initializing an attr\n",
    "    mirrors = 2\n",
    "    turbo = 1 \n",
    "    def __init__(self, doors, mirrors, turbo, sunroof=False): #Setting defaults\n",
    "        self.doors = doors\n",
    "        self.sunroof = sunroof\n",
    "        self.tires = 'rubber'\n",
    "        self.mirrors = mirrors\n",
    "        self.turbo = turbo\n",
    "        \n",
    "#i failed at this concept so bad. Ill understand soonish\n",
    "print(plymouth.mirrors, plymouth.turbo)"
   ]
  },
  {
   "cell_type": "markdown",
   "metadata": {},
   "source": [
    "## Class Methods <br>\n",
    "<p>While inside of a class, functions are referred to as 'methods'. If you hear someone mention methods, they're speaking about classes. Methods are essentially functions, but only callable on the instances of a class.</p>"
   ]
  },
  {
   "cell_type": "markdown",
   "metadata": {},
   "source": [
    "##### Creating"
   ]
  },
  {
   "cell_type": "code",
   "execution_count": 46,
   "metadata": {},
   "outputs": [
    {
     "name": "stdout",
     "output_type": "stream",
     "text": [
      "56\n",
      "98\n",
      "a to add, r to remove, c to check gas, f fill, b to check bed, q to quita\n",
      "What junk did you pick up?racoon\n",
      "a to add, r to remove, c to check gas, f fill, b to check bed, q to quitb\n",
      "What junk did you pick up?pizza\n",
      "a to add, r to remove, c to check gas, f fill, b to check bed, q to quitc\n",
      "34\n",
      "a to add, r to remove, c to check gas, f fill, b to check bed, q to quitf\n",
      "How much did yer put in?28\n",
      "added 28 gallons\n",
      "62\n",
      "a to add, r to remove, c to check gas, f fill, b to check bed, q to quitc\n",
      "62\n",
      "a to add, r to remove, c to check gas, f fill, b to check bed, q to quitb\n",
      "What junk did you pick up?r\n",
      "a to add, r to remove, c to check gas, f fill, b to check bed, q to quitr\n",
      "Whaddya gettin rid of!?r\n",
      "a to add, r to remove, c to check gas, f fill, b to check bed, q to quitb\n",
      "What junk did you pick up?q\n",
      "a to add, r to remove, c to check gas, f fill, b to check bed, q to quitq\n"
     ]
    }
   ],
   "source": [
    "class Pickup():\n",
    "    \"\"\"\n",
    "    This is the hillbilly sopping cart!\n",
    "    \"\"\"\n",
    "    def __init__(self, wheels, gas_tank,):\n",
    "        self.wheels = wheels\n",
    "        self.gas_tank = gas_tank\n",
    "        self.bed = []\n",
    "        \n",
    "    def check_tank(self):\n",
    "        print(self.gas_tank)\n",
    "        \n",
    "    def check_bed(self):\n",
    "        if self.bed:\n",
    "            for item in self.bed:\n",
    "                print(item)\n",
    "        else:\n",
    "            print('Nuffin back thurr')\n",
    "            \n",
    "    def chuck_in_back(self):\n",
    "        junk = input('What junk did you pick up?')\n",
    "        self.bed.append(junk)\n",
    "        \n",
    "    def toss_out(self):\n",
    "        toss = input('Whaddya gettin rid of!?')\n",
    "        self.bed.remove(toss)\n",
    "        \n",
    "    def filler_up(self):\n",
    "        gallons = int(input('How much did yer put in?'))\n",
    "        self.gas_tank += gallons\n",
    "        print(f'added {gallons} gallons')\n",
    "        self.check_tank()\n",
    "        \n",
    "    def run(self):\n",
    "        while True:\n",
    "            menu = input(\"a to add, r to remove, c to check gas, f fill, b to check bed, q to quit\")\n",
    "            if menu == 'a':\n",
    "                self.chuck_in_back()\n",
    "            elif menu == 'r':\n",
    "                self.toss_out()\n",
    "            elif menu == 'c':\n",
    "                self.check_tank()\n",
    "            elif menu == 'f':\n",
    "                self.filler_up()\n",
    "            elif menu == 'b':\n",
    "                self.chuck_in_back()\n",
    "            elif menu == 'q':\n",
    "                break\n",
    "            else:\n",
    "                print('incorrect option buddy!')\n",
    "        \n",
    "p = Pickup(4, 56)\n",
    "#Pickup.method(parameters) syntax reminder!\n",
    "p.check_tank()\n",
    "\n",
    "chev = Pickup(4, 98)\n",
    "\n",
    "chev.check_tank()\n",
    "f150 = Pickup(4, 34)\n",
    "f150.run()"
   ]
  },
  {
   "cell_type": "markdown",
   "metadata": {},
   "source": [
    "##### Calling"
   ]
  },
  {
   "cell_type": "code",
   "execution_count": null,
   "metadata": {},
   "outputs": [],
   "source": [
    "# See Above"
   ]
  },
  {
   "cell_type": "markdown",
   "metadata": {},
   "source": [
    "##### Modifying an Attribute's Value Through a Method"
   ]
  },
  {
   "cell_type": "code",
   "execution_count": null,
   "metadata": {},
   "outputs": [],
   "source": [
    "#just like the chunk_in_back example above"
   ]
  },
  {
   "cell_type": "markdown",
   "metadata": {},
   "source": [
    "##### Incrementing an Attribute's Value Through a Method"
   ]
  },
  {
   "cell_type": "code",
   "execution_count": null,
   "metadata": {},
   "outputs": [],
   "source": [
    "#just like the filler_up example above"
   ]
  },
  {
   "cell_type": "markdown",
   "metadata": {},
   "source": [
    "##### In-Class Exercise #3 - Add a method that takes in three parameters of year, doors and seats and prints out a formatted print statement with make, model, year, seats, and doors"
   ]
  },
  {
   "cell_type": "code",
   "execution_count": 47,
   "metadata": {},
   "outputs": [
    {
     "ename": "SyntaxError",
     "evalue": "invalid syntax (2532625202.py, line 7)",
     "output_type": "error",
     "traceback": [
      "\u001b[1;36m  Cell \u001b[1;32mIn[47], line 7\u001b[1;36m\u001b[0m\n\u001b[1;33m    class = Car():\u001b[0m\n\u001b[1;37m          ^\u001b[0m\n\u001b[1;31mSyntaxError\u001b[0m\u001b[1;31m:\u001b[0m invalid syntax\n"
     ]
    }
   ],
   "source": [
    "# Create class with 2 paramters inside of the __init__ which are make and model\n",
    "\n",
    "# Inside of the Car class create a method that has 4 parameter in total (self,year,door,seats)\n",
    "\n",
    "# Output: This car is from 2019 and is a Ford Expolorer and has 4 doors and 5 seats\n",
    "\n",
    "class = Car():\n",
    "    def __init__(self, make, model):\n",
    "        self.make = make\n",
    "        self.model = model\n",
    "        self.seats = seats\n",
    "        \n",
    "    def addDetails(self, year, doors, seats):\n",
    "        print('this car is a {self.make} {self.model} from {year} and has {doors} doors, and {seats} seats.')\n",
    "        \n",
    "my_car = Car('Ford', Focus)\n",
    "print(myCar(addDetails)"
   ]
  },
  {
   "cell_type": "markdown",
   "metadata": {},
   "source": [
    "## Inheritance <br>\n",
    "<p>You can create a child-parent relationship between two classes by using inheritance. What this allows you to do is have overriding methods, but also inherit traits from the parent class. Think of it as an actual parent and child, the child will inherit the parent's genes, as will the classes in OOP</p>"
   ]
  },
  {
   "cell_type": "markdown",
   "metadata": {},
   "source": [
    "##### Syntax for Inheriting from a Parent Class"
   ]
  },
  {
   "cell_type": "code",
   "execution_count": 58,
   "metadata": {},
   "outputs": [
    {
     "name": "stdout",
     "output_type": "stream",
     "text": [
      "WOOF WOOF woof WOOF\n",
      "WOOF! WOOF!\n"
     ]
    }
   ],
   "source": [
    "class Mammal():\n",
    "    warm_blooded = True\n",
    "    \n",
    "    def __init__(self, name, species, legs = 4):\n",
    "        self.name = name\n",
    "        self.species = species\n",
    "        self.legs = legs\n",
    "        \n",
    "    def breathe(self):\n",
    "        print(\".... Breathe. . . \")\n",
    "class Cat(Mammal):\n",
    "    pass\n",
    "\n",
    "class Dog(Mammal):\n",
    "    loyal = True\n",
    "    \n",
    "    def bark(self):\n",
    "        print('WOOF! WOOF!')\n",
    "        \n",
    "class Mutt(Dog):\n",
    "    color = 'Brown'\n",
    "    \n",
    "    def __init__(self, name, species, tail, legs = 4):\n",
    "        Dog.__init__(self, name, species, legs)\n",
    "        self.tail = tail\n",
    "    def make_sound(self):\n",
    "        print('WOOF WOOF woof WOOF')\n",
    "        \n",
    "fido = Dog('Fido','Pompom')\n",
    "rex = Mutt('rex', 'Lab Mix', False)\n",
    "whale = Mammal('Willie','Orca')\n",
    "\n",
    "rex.make_sound()\n",
    "fido.bark()"
   ]
  },
  {
   "cell_type": "markdown",
   "metadata": {},
   "source": [
    "##### The \\__init\\__() Method for a Child Class - super()"
   ]
  },
  {
   "cell_type": "code",
   "execution_count": 72,
   "metadata": {
    "scrolled": true
   },
   "outputs": [
    {
     "name": "stdout",
     "output_type": "stream",
     "text": [
      "WOOF WOOF woof WOOF\n"
     ]
    }
   ],
   "source": [
    "class Mutt(Dog):                #super() is ran below, see above for difference and where to use.\n",
    "    color = 'Brown'\n",
    "    \n",
    "    def __init__(self, name, species, tail, legs = 4):\n",
    "        super().__init__(self, name, species)\n",
    "        self.tail = tail\n",
    "    def make_sound(self):\n",
    "        print('WOOF WOOF woof WOOF')\n",
    "        \n",
    "rex2 = Mutt('Rex2', 'Chihuaha', True)\n",
    "rex2.make_sound()"
   ]
  },
  {
   "cell_type": "markdown",
   "metadata": {},
   "source": [
    "##### Defining Attributes and Methods for the Child Class"
   ]
  },
  {
   "cell_type": "code",
   "execution_count": null,
   "metadata": {},
   "outputs": [],
   "source": [
    "# See Above"
   ]
  },
  {
   "cell_type": "markdown",
   "metadata": {},
   "source": [
    "##### Method Overriding"
   ]
  },
  {
   "cell_type": "code",
   "execution_count": null,
   "metadata": {},
   "outputs": [],
   "source": [
    "# See Above"
   ]
  },
  {
   "cell_type": "markdown",
   "metadata": {},
   "source": [
    "## Classes as Attributes <br>\n",
    "<p>Classes can also be used as attributes within another class. This is useful in situations where you need to keep variables locally stored, instead of globally stored.</p>"
   ]
  },
  {
   "cell_type": "code",
   "execution_count": 75,
   "metadata": {},
   "outputs": [
    {
     "data": {
      "text/plain": [
       "'This car: Tesla M with a battery featuring 24 cells and 112 amps.'"
      ]
     },
     "execution_count": 75,
     "metadata": {},
     "output_type": "execute_result"
    }
   ],
   "source": [
    "class Battery():\n",
    "    def __init__(self, cells):\n",
    "        self.cells = cells\n",
    "        self.amperage = 112\n",
    "class Electric_car():\n",
    "    def __init__(self, make, model, battery):\n",
    "        self.make = make\n",
    "        self.model = model\n",
    "        self.battery = battery\n",
    "        \n",
    "    def print_info(self):\n",
    "        return f\"This car: {self.make} {self.model} with a battery featuring {self.battery.cells} cells and {self.battery.amperage} amps.\"\n",
    "    \n",
    "bat = Battery(24)\n",
    "tesla = Electric_car('Tesla', 'M', bat)\n",
    "tesla.print_info()"
   ]
  },
  {
   "cell_type": "markdown",
   "metadata": {},
   "source": [
    "# Exercises"
   ]
  },
  {
   "cell_type": "markdown",
   "metadata": {},
   "source": [
    "### Exercise 1 - Turn the shopping cart program from yesterday into an object-oriented program\n",
    "\n",
    "The comments in the cell below are there as a guide for thinking about the problem. However, if you feel a different way is best for you and your own thought process, please do what feels best for you by all means."
   ]
  },
  {
   "cell_type": "code",
   "execution_count": 24,
   "metadata": {},
   "outputs": [
    {
     "name": "stdout",
     "output_type": "stream",
     "text": [
      "Exiting...\n"
     ]
    }
   ],
   "source": [
    "# Create a class called cart that retains items and has methods to add, remove, and show\n",
    "#SOMETHING TELLS ME I MIGHTVE MISUNDERSTOOD THE ASSIGNMENT. I WAS UNDER THE ASSUMPTION I WANTED IT FUNCTIONAL LIKE THE SHOPPING CART THE DAY BEFORE. \n",
    "\n",
    "class Cart:\n",
    "    def __init__(self):\n",
    "        self.items = []\n",
    "\n",
    "    def add_item(self, item):\n",
    "        self.items.append(item)\n",
    "\n",
    "    def remove_item(self, item):\n",
    "        if item in self.items:\n",
    "            self.items.remove(item)\n",
    "        else:\n",
    "            print(\"Item not found in the cart.\")\n",
    "\n",
    "    def show_items(self):\n",
    "        print(\"Items in the cart:\")\n",
    "        for item in self.items:\n",
    "            print(item)\n",
    "\n",
    "cart = Cart()\n",
    "\n",
    "while True:\n",
    "    action = input(\"What would you like to do? (add/show/remove/quit): \").lower()\n",
    "\n",
    "    if action == \"add\":\n",
    "        item = input(\"Enter item to add to the cart: \")\n",
    "        cart.add_item(item)\n",
    "    elif action == \"show\":\n",
    "        cart.show_items()\n",
    "    elif action == \"remove\":\n",
    "        item = input(\"Enter item to remove from the cart: \")\n",
    "        cart.remove_item(item)\n",
    "    elif action == \"quit\":\n",
    "        print(\"Exiting...\")\n",
    "        break\n",
    "    else:\n",
    "        print(\"Invalid action. Please try again.\")\n",
    "\n",
    "        "
   ]
  },
  {
   "cell_type": "markdown",
   "metadata": {},
   "source": [
    "### Exercise 2 - Write a Python class which has two methods get_String and print_String. get_String accept a string from the user and print_String print the string in upper case"
   ]
  },
  {
   "cell_type": "code",
   "execution_count": 33,
   "metadata": {},
   "outputs": [
    {
     "name": "stdout",
     "output_type": "stream",
     "text": [
      "String in uppercase: HOWDY\n"
     ]
    }
   ],
   "source": [
    "class Stringbeans:\n",
    "    def __init__(self):\n",
    "        self.user_string = \"\"\n",
    "\n",
    "    def get_String(self, user_input):\n",
    "        self.user_string = user_input\n",
    "\n",
    "    def print_String(self):\n",
    "        print(\"String in uppercase:\", self.user_string.upper())\n",
    "\n",
    "\n",
    "user_input = input(\"Enter a string: \")\n",
    "manipulator.get_String(user_input)\n",
    "manipulator.print_String()\n"
   ]
  }
 ],
 "metadata": {
  "kernelspec": {
   "display_name": "Python 3 (ipykernel)",
   "language": "python",
   "name": "python3"
  },
  "language_info": {
   "codemirror_mode": {
    "name": "ipython",
    "version": 3
   },
   "file_extension": ".py",
   "mimetype": "text/x-python",
   "name": "python",
   "nbconvert_exporter": "python",
   "pygments_lexer": "ipython3",
   "version": "3.12.1"
  }
 },
 "nbformat": 4,
 "nbformat_minor": 2
}
